{
  "metadata": {
    "kernelspec": {
      "name": "python",
      "display_name": "Python (Pyodide)",
      "language": "python"
    },
    "language_info": {
      "codemirror_mode": {
        "name": "python",
        "version": 3
      },
      "file_extension": ".py",
      "mimetype": "text/x-python",
      "name": "python",
      "nbconvert_exporter": "python",
      "pygments_lexer": "ipython3",
      "version": "3.8"
    }
  },
  "nbformat_minor": 4,
  "nbformat": 4,
  "cells": [
    {
      "cell_type": "markdown",
      "source": "<p style=\"text-align:center\">\n    <a href=\"https://skills.network\" target=\"_blank\">\n    <img src=\"https://cf-courses-data.s3.us.cloud-object-storage.appdomain.cloud/assets/logos/SN_web_lightmode.png\" width=\"300\" alt=\"Skills Network Logo\">\n    </a>\n</p>\n",
      "metadata": {}
    },
    {
      "cell_type": "markdown",
      "source": "# Test Environment for Generative AI classroom labs\n\nThis lab provides a test environment for the codes generated using the Generative AI classroom.\n\nFollow the instructions below to set up this environment for further use.\n",
      "metadata": {}
    },
    {
      "cell_type": "markdown",
      "source": "# Setup\n",
      "metadata": {}
    },
    {
      "cell_type": "markdown",
      "source": "### Install required libraries\n\nIn case of a requirement of installing certain python libraries for use in your task, you may do so as shown below.\n",
      "metadata": {}
    },
    {
      "cell_type": "code",
      "source": "%pip install seaborn\nimport piplite\n\nawait piplite.install(['nbformat', 'plotly'])",
      "metadata": {
        "trusted": true
      },
      "outputs": [],
      "execution_count": 1
    },
    {
      "cell_type": "markdown",
      "source": "### Dataset URL from the GenAI lab\nUse the URL provided in the GenAI lab in the cell below. \n",
      "metadata": {}
    },
    {
      "cell_type": "code",
      "source": "# URL = \nURL = \"https://cf-courses-data.s3.us.cloud-object-storage.appdomain.cloud/IBMDeveloperSkillsNetwork-DA0101EN-Coursera/laptop_pricing_dataset_mod2.csv\"",
      "metadata": {
        "trusted": true
      },
      "outputs": [],
      "execution_count": 2
    },
    {
      "cell_type": "markdown",
      "source": "### Downloading the dataset\n\nExecute the following code to download the dataset in to the interface.\n\n> Please note that this step is essential in JupyterLite. If you are using a downloaded version of this notebook and running it on JupyterLabs, then you can skip this step and directly use the URL in pandas.read_csv() function to read the dataset as a dataframe\n",
      "metadata": {}
    },
    {
      "cell_type": "code",
      "source": "from pyodide.http import pyfetch\n\nasync def download(url, filename):\n    response = await pyfetch(url)\n    if response.status == 200:\n        with open(filename, \"wb\") as f:\n            f.write(await response.bytes())\n\npath = URL\n\nawait download(path, \"dataset.csv\")",
      "metadata": {
        "trusted": true
      },
      "outputs": [],
      "execution_count": 3
    },
    {
      "cell_type": "markdown",
      "source": "---\n",
      "metadata": {}
    },
    {
      "cell_type": "markdown",
      "source": "# Test Environment\n",
      "metadata": {}
    },
    {
      "cell_type": "markdown",
      "source": "## prompt 1 \nWrite a Python code that can perform the following tasks.\nRead the CSV file, located on a given file path, into a pandas data frame, assuming that the first row of the file can be used as the headers for the data.",
      "metadata": {}
    },
    {
      "cell_type": "code",
      "source": "import pandas as pd\n\n# Specify the file path to the CSV file\nfile_path = \"dataset.csv\"\n\n# Read the CSV file into a pandas data frame\ndf = pd.read_csv(file_path, header=0)\n\n# Print the data frame to see the contents\nprint(df)",
      "metadata": {
        "trusted": true
      },
      "outputs": [
        {
          "name": "stdout",
          "text": "     Unnamed: 0.1  Unnamed: 0 Manufacturer  Category  GPU  OS  CPU_core  \\\n0               0           0         Acer         4    2   1         5   \n1               1           1         Dell         3    1   1         3   \n2               2           2         Dell         3    1   1         7   \n3               3           3         Dell         4    2   1         5   \n4               4           4           HP         4    2   1         7   \n..            ...         ...          ...       ...  ...  ..       ...   \n233           233         233       Lenovo         4    2   1         7   \n234           234         234      Toshiba         3    2   1         5   \n235           235         235       Lenovo         4    2   1         5   \n236           236         236       Lenovo         3    3   1         5   \n237           237         237      Toshiba         3    2   1         5   \n\n     Screen_Size_inch  CPU_frequency  RAM_GB  Storage_GB_SSD  Weight_pounds  \\\n0                14.0       0.551724       8             256        3.52800   \n1                15.6       0.689655       4             256        4.85100   \n2                15.6       0.931034       8             256        4.85100   \n3                13.3       0.551724       8             128        2.69010   \n4                15.6       0.620690       8             256        4.21155   \n..                ...            ...     ...             ...            ...   \n233              14.0       0.896552       8             256        3.74850   \n234              13.3       0.827586       8             256        2.64600   \n235              12.0       0.896552       8             256        2.99880   \n236              15.6       0.862069       6             256        5.29200   \n237              14.0       0.793103       8             256        4.29975   \n\n     Price Price-binned  Screen-Full_HD  Screen-IPS_panel  \n0      978          Low               0                 1  \n1      634          Low               1                 0  \n2      946          Low               1                 0  \n3     1244          Low               0                 1  \n4      837          Low               1                 0  \n..     ...          ...             ...               ...  \n233   1891       Medium               0                 1  \n234   1950       Medium               1                 0  \n235   2236       Medium               0                 1  \n236    883          Low               1                 0  \n237   1499          Low               1                 0  \n\n[238 rows x 16 columns]\n",
          "output_type": "stream"
        }
      ],
      "execution_count": 4
    },
    {
      "cell_type": "code",
      "source": "df.columns",
      "metadata": {
        "trusted": true
      },
      "outputs": [
        {
          "execution_count": 9,
          "output_type": "execute_result",
          "data": {
            "text/plain": "Index(['Unnamed: 0.1', 'Unnamed: 0', 'Manufacturer', 'Category', 'GPU', 'OS',\n       'CPU_core', 'Screen_Size_inch', 'CPU_frequency', 'RAM_GB',\n       'Storage_GB_SSD', 'Weight_pounds', 'Price', 'Price-binned',\n       'Screen-Full_HD', 'Screen-IPS_panel'],\n      dtype='object')"
          },
          "metadata": {}
        }
      ],
      "execution_count": 9
    },
    {
      "cell_type": "markdown",
      "source": "### Reference Ans",
      "metadata": {}
    },
    {
      "cell_type": "code",
      "source": "import pandas as pd\n\n# Define the file path\nfile_path = \"dataset.csv\"\n\n# Read the CSV file into a pandas data frame\ndata_frame = pd.read_csv(file_path)\n\n# Assume the first row of the file can be used as the headers for the data\n# If the file doesn't have headers, you can remove the 'header' parameter\ndata_frame = pd.read_csv(file_path, header=0)\n\n# Additional details:\n# - The 'pd.read_csv()' function is used to read a CSV file into a pandas data frame.\n# - The 'header' parameter in the 'pd.read_csv()' function specifies which row to use as the headers.\n#   By default, it is set to 'infer', which means pandas will try to infer the headers from the file.\n#   If the headers are in the first row, you can set the 'header' parameter to 0.",
      "metadata": {
        "trusted": true
      },
      "outputs": [],
      "execution_count": 5
    },
    {
      "cell_type": "markdown",
      "source": "# Prompt 2\nWrite a Python code that performs the following tasks.\n1. Develops and trains a linear regression model that uses one attribute of a data frame as the source variable and another as a target variable.\n2. Calculate and display the MSE and R^2 values for the trained model",
      "metadata": {}
    },
    {
      "cell_type": "code",
      "source": "import pandas as pd\nfrom sklearn.linear_model import LinearRegression\nfrom sklearn.metrics import mean_squared_error, r2_score\n\n# Assuming 'source_column' and 'target_column' are the column names in the data frame\nsource_column =  'CPU_frequency'#'source_column_name'\ntarget_column = 'Price' #'target_column_name'\n\n# Assuming 'df' is the pandas data frame containing the data\nX = df[[source_column]]\ny = df[target_column]\n\n# Create and train the linear regression model\nmodel = LinearRegression()\nmodel.fit(X, y)\n\n# Make predictions using the model\ny_pred = model.predict(X)\n\n# Calculate Mean Squared Error and R^2 values\nmse = mean_squared_error(y, y_pred)\nr2 = r2_score(y, y_pred)\n\nprint(\"Mean Squared Error:\", mse)\nprint(\"R^2 Score:\", r2)",
      "metadata": {
        "trusted": true
      },
      "outputs": [
        {
          "name": "stdout",
          "text": "Mean Squared Error: 284583.44058686297\nR^2 Score: 0.13444363210243238\n",
          "output_type": "stream"
        }
      ],
      "execution_count": 7
    },
    {
      "cell_type": "markdown",
      "source": "### Reference Ans",
      "metadata": {}
    },
    {
      "cell_type": "code",
      "source": "import pandas as pd\nfrom sklearn.linear_model import LinearRegression\nfrom sklearn.metrics import mean_squared_error, r2_score\n\n# Assume you have a pandas data frame called 'data_frame' with two columns: 'source_variable' and 'target_variable'\n\n# Extract the source variable and target variable from the data frame\nX = data_frame[[ 'CPU_frequency']]\ny = data_frame['Price']\n\n# Initialize a linear regression model\nmodel = LinearRegression()\n\n# Train the model using the source and target variables\nmodel.fit(X, y)\n\n# Make predictions using the trained model\ny_pred = model.predict(X)\n\n# Calculate the mean squared error (MSE)\nmse = mean_squared_error(y, y_pred)\n\n# Calculate the coefficient of determination (R^2)\nr2 = r2_score(y, y_pred)\n\n# Display the MSE and R^2 values\nprint(\"Mean Squared Error (MSE):\", mse)\nprint(\"Coefficient of Determination (R^2):\", r2)\n\n# Additional details:\n# - The 'LinearRegression' class from the 'sklearn.linear_model' module is used to create a linear regression model.\n# - The 'fit()' method is used to train the model using the source and target variables.\n# - The 'predict()' method is used to make predictions using the trained model.\n# - The 'mean_squared_error()' function from the 'sklearn.metrics' module is used to calculate the MSE.\n# - The 'r2_score()' function from the 'sklearn.metrics' module is used to calculate the R^2 value.",
      "metadata": {
        "trusted": true
      },
      "outputs": [
        {
          "name": "stdout",
          "text": "Mean Squared Error (MSE): 284583.44058686297\nCoefficient of Determination (R^2): 0.13444363210243238\n",
          "output_type": "stream"
        }
      ],
      "execution_count": 8
    },
    {
      "cell_type": "markdown",
      "source": "# Prompt 3\nWrite a Python code that performs the following tasks.\n1. Develops and trains a linear regression model that uses some attributes of a data frame as the source variables and one of the attributes as a target variable.\n2. Calculate and display the MSE and R^2 values for the trained model.",
      "metadata": {}
    },
    {
      "cell_type": "code",
      "source": "import pandas as pd\nfrom sklearn.linear_model import LinearRegression\nfrom sklearn.metrics import mean_squared_error, r2_score\n\n# Assuming 'source_columns' is a list of column names and 'target_column' is the target column name\nsource_columns = ['CPU_frequency', 'RAM_GB', 'Storage_GB_SSD', 'CPU_core', 'OS', 'GPU' , 'Category']\ntarget_column = 'Price'\n\n# Assuming 'df' is the pandas data frame containing the data\nX = df[source_columns]\ny = df[target_column]\n\n# Create and train the linear regression model\nmodel = LinearRegression()\nmodel.fit(X, y)\n\n# Make predictions using the model\ny_pred = model.predict(X)\n\n# Calculate Mean Squared Error and R^2 values\nmse = mean_squared_error(y, y_pred)\nr2 = r2_score(y, y_pred)\n\nprint(\"Mean Squared Error:\", mse)\nprint(\"R^2 Score:\", r2)",
      "metadata": {
        "trusted": true
      },
      "outputs": [
        {
          "name": "stdout",
          "text": "Mean Squared Error: 161680.57263893107\nR^2 Score: 0.5082509055187374\n",
          "output_type": "stream"
        }
      ],
      "execution_count": 10
    },
    {
      "cell_type": "markdown",
      "source": "### Reference Ans",
      "metadata": {}
    },
    {
      "cell_type": "code",
      "source": "import pandas as pd\nfrom sklearn.linear_model import LinearRegression\nfrom sklearn.metrics import mean_squared_error, r2_score\n\n# Assume you have a pandas data frame called 'data_frame' with multiple columns: 'source_variable_1', 'source_variable_2', ..., 'target_variable'\n\n# Extract the source variables and target variable from the data frame\n# X = data_frame[['source_variable_1', 'source_variable_2', ...]]\nX = data_frame[['CPU_frequency', 'RAM_GB', 'Storage_GB_SSD', 'CPU_core', 'OS', 'GPU' , 'Category']]\ny = data_frame['Price']\n\n# Initialize a linear regression model\nmodel = LinearRegression()\n\n# Train the model using the source and target variables\nmodel.fit(X, y)\n\n# Make predictions using the trained model\ny_pred = model.predict(X)\n\n# Calculate the mean squared error (MSE)\nmse = mean_squared_error(y, y_pred)\n\n# Calculate the coefficient of determination (R^2)\nr2 = r2_score(y, y_pred)\n\n# Display the MSE and R^2 values\nprint(\"Mean Squared Error (MSE):\", mse)\nprint(\"Coefficient of Determination (R^2):\", r2)\n\n# Additional details:\n# - The 'LinearRegression' class from the 'sklearn.linear_model' module is used to create a linear regression model.\n# - The 'fit()' method is used to train the model using the source and target variables.\n# - The 'predict()' method is used to make predictions using the trained model.\n# - The 'mean_squared_error()' function from the 'sklearn.metrics' module is used to calculate the MSE.\n# - The 'r2_score()' function from the 'sklearn.metrics' module is used to calculate the R^2 value.",
      "metadata": {
        "trusted": true
      },
      "outputs": [
        {
          "name": "stdout",
          "text": "Mean Squared Error (MSE): 161680.57263893107\nCoefficient of Determination (R^2): 0.5082509055187374\n",
          "output_type": "stream"
        }
      ],
      "execution_count": 13
    },
    {
      "cell_type": "markdown",
      "source": "# Prompt 4  Multiple Polynomal regression model\nWrite a Python code that performs the following tasks.\n1. Develops and trains multiple polynomial regression models, with orders 2, 3, and 5, that use one attribute of a data frame as the source variable and another as a target variable.\n2. Calculate and display the MSE and R^2 values for the trained models.\n3. Compare the performance of the models.",
      "metadata": {}
    },
    {
      "cell_type": "code",
      "source": "import pandas as pd\nfrom sklearn.linear_model import LinearRegression\nfrom sklearn.preprocessing import PolynomialFeatures\nfrom sklearn.metrics import mean_squared_error, r2_score\n\n# Specify the source and target column names\nsource_column = 'CPU_frequency' #'source_column_name'\ntarget_column = 'Price'#'target_column_name'\n\n# Assuming 'df' is the pandas data frame containing the data\nX = df[[source_column]]\ny = df[target_column]\n\n# Create and train polynomial regression models of different orders\norders = [2, 3, 5]\nfor order in orders:\n    poly_features = PolynomialFeatures(degree=order)\n    X_poly = poly_features.fit_transform(X)\n    \n    model = LinearRegression()\n    model.fit(X_poly, y)\n    \n    y_pred = model.predict(X_poly)\n    \n    mse = mean_squared_error(y, y_pred)\n    r2 = r2_score(y, y_pred)\n    \n    print(f\"Polynomial Regression Model (Order {order}):\")\n    print(\"Mean Squared Error:\", mse)\n    print(\"R^2 Score:\", r2)\n    print(\"\")\n\n# Compare the performance of the polynomial regression models based on MSE and R^2 values",
      "metadata": {
        "trusted": true
      },
      "outputs": [
        {
          "name": "stdout",
          "text": "Polynomial Regression Model (Order 2):\nMean Squared Error: 249022.66596751186\nR^2 Score: 0.2426012074542374\n\nPolynomial Regression Model (Order 3):\nMean Squared Error: 241024.863038488\nR^2 Score: 0.2669264079653102\n\nPolynomial Regression Model (Order 5):\nMean Squared Error: 229137.29548054413\nR^2 Score: 0.30308227064436244\n\n",
          "output_type": "stream"
        }
      ],
      "execution_count": 14
    },
    {
      "cell_type": "code",
      "source": "### Reference Ans",
      "metadata": {
        "trusted": true
      },
      "outputs": [],
      "execution_count": 15
    },
    {
      "cell_type": "code",
      "source": "import pandas as pd\nimport numpy as np\nfrom sklearn.linear_model import LinearRegression\nfrom sklearn.preprocessing import PolynomialFeatures\nfrom sklearn.metrics import mean_squared_error, r2_score\n\n# Assume you have a pandas data frame called 'data_frame' with two columns: 'source_variable' and 'target_variable'\n\n# Extract the source variable and target variable from the data frame\nX = data_frame[['CPU_frequency']]\ny = data_frame['Price']\n\n# Initialize lists to store the MSE and R^2 values for each model\nmse_values = []\nr2_values = []\n\n# Loop through the polynomial orders\nfor order in [2, 3, 5]:\n    # Create polynomial features\n    polynomial_features = PolynomialFeatures(degree=order)\n    X_poly = polynomial_features.fit_transform(X)\n\n    # Initialize a linear regression model\n    model = LinearRegression()\n\n    # Train the model using the polynomial features and target variable\n    model.fit(X_poly, y)\n\n    # Make predictions using the trained model\n    y_pred = model.predict(X_poly)\n\n    # Calculate the mean squared error (MSE)\n    mse = mean_squared_error(y, y_pred)\n\n    # Calculate the coefficient of determination (R^2)\n    r2 = r2_score(y, y_pred)\n\n    # Append the MSE and R^2 values to the lists\n    mse_values.append(mse)\n    r2_values.append(r2)\n\n    # Display the MSE and R^2 values for the current model\n    print(f\"Polynomial Order {order}:\")\n    print(\"Mean Squared Error (MSE):\", mse)\n    print(\"Coefficient of Determination (R^2):\", r2)\n    print()\n\n# Compare the performance of the models\nbest_order = np.argmin(mse_values)\nworst_order = np.argmax(r2_values)\n\nprint(\"Model Comparison:\")\nprint(f\"Best Polynomial Order: {best_order + 2}\")\nprint(f\"Worst Polynomial Order: {worst_order + 2}\")\n\n# Additional details:\n# - The 'PolynomialFeatures' class from the 'sklearn.preprocessing' module is used to create polynomial features.\n# - The 'fit_transform()' method is used to transform the source variable into polynomial features.\n# - The 'degree' parameter in the 'PolynomialFeatures' class specifies the maximum degree of the polynomial features.\n# - The 'argmin()' and 'argmax()' functions from the 'numpy' module are used to find the index of the minimum and maximum values in a list, respectively.",
      "metadata": {
        "trusted": true
      },
      "outputs": [
        {
          "name": "stdout",
          "text": "Polynomial Order 2:\nMean Squared Error (MSE): 249022.66596751186\nCoefficient of Determination (R^2): 0.2426012074542374\n\nPolynomial Order 3:\nMean Squared Error (MSE): 241024.863038488\nCoefficient of Determination (R^2): 0.2669264079653102\n\nPolynomial Order 5:\nMean Squared Error (MSE): 229137.29548054413\nCoefficient of Determination (R^2): 0.30308227064436244\n\nModel Comparison:\nBest Polynomial Order: 4\nWorst Polynomial Order: 4\n",
          "output_type": "stream"
        }
      ],
      "execution_count": 16
    },
    {
      "cell_type": "markdown",
      "source": "# Prompt 5  create pipeline\nWrite a Python code that performs the following tasks.\n1. Create a pipeline that performs parameter scaling, Polynomial Feature generation, and Linear regression. Use the set of multiple features as before to create this pipeline.\n2. Calculate and display the MSE and R^2 values for the trained model.",
      "metadata": {}
    },
    {
      "cell_type": "code",
      "source": "import pandas as pd\nfrom sklearn.pipeline import Pipeline\nfrom sklearn.preprocessing import StandardScaler, PolynomialFeatures\nfrom sklearn.linear_model import LinearRegression\nfrom sklearn.metrics import mean_squared_error, r2_score\n\n# Assuming 'source_columns' is a list of column names and 'target_column' is the target column name\nsource_columns = ['CPU_frequency', 'RAM_GB', 'Storage_GB_SSD', 'CPU_core', 'OS', 'GPU' , 'Category']\ntarget_column =  'Price'#'target_column'\n\n# Assuming 'df' is the pandas data frame containing the data\nX = df[source_columns]\ny = df[target_column]\n\n# Create a pipeline for parameter scaling, polynomial feature generation, and linear regression\npipeline = Pipeline([\n    ('scaler', StandardScaler()),\n    ('poly_features', PolynomialFeatures(degree=2)),\n    ('linear_reg', LinearRegression())\n])\n\n# Fit the pipeline on the data\npipeline.fit(X, y)\n\n# Make predictions using the pipeline\ny_pred = pipeline.predict(X)\n\n# Calculate Mean Squared Error and R^2 values\nmse = mean_squared_error(y, y_pred)\nr2 = r2_score(y, y_pred)\n\nprint(\"Mean Squared Error:\", mse)\nprint(\"R^2 Score:\", r2)",
      "metadata": {
        "trusted": true
      },
      "outputs": [
        {
          "name": "stdout",
          "text": "Mean Squared Error: 120934.2421875\nR^2 Score: 0.6321802730109751\n",
          "output_type": "stream"
        }
      ],
      "execution_count": 17
    },
    {
      "cell_type": "markdown",
      "source": "### Reference Ans",
      "metadata": {}
    },
    {
      "cell_type": "code",
      "source": "import pandas as pd\nimport numpy as np\nfrom sklearn.pipeline import make_pipeline\nfrom sklearn.preprocessing import StandardScaler, PolynomialFeatures\nfrom sklearn.linear_model import LinearRegression\nfrom sklearn.metrics import mean_squared_error, r2_score\n\n# Assume you have a pandas data frame called 'data_frame' with multiple columns: 'source_variable_1', 'source_variable_2', ..., 'target_variable'\n\n# Extract the source variables and target variable from the data frame\n# X = data_frame[['source_variable_1', 'source_variable_2', ...]]\n# y = data_frame['target_variable']\nX = data_frame[ ['CPU_frequency', 'RAM_GB', 'Storage_GB_SSD', 'CPU_core', 'OS', 'GPU' , 'Category']]\ny = data_frame['Price']\n\n# Create a pipeline that performs parameter scaling, polynomial feature generation, and linear regression\npipeline = make_pipeline(\n    StandardScaler(),\n    PolynomialFeatures(degree=2),\n    LinearRegression()\n)\n\n# Train the model using the source and target variables\npipeline.fit(X, y)\n\n# Make predictions using the trained model\ny_pred = pipeline.predict(X)\n\n# Calculate the mean squared error (MSE)\nmse = mean_squared_error(y, y_pred)\n\n# Calculate the coefficient of determination (R^2)\nr2 = r2_score(y, y_pred)\n\n# Display the MSE and R^2 values\nprint(\"Mean Squared Error (MSE):\", mse)\nprint(\"Coefficient of Determination (R^2):\", r2)\n\n# Additional details:\n# - The 'make_pipeline()' function from the 'sklearn.pipeline' module is used to create a pipeline.\n# - The 'StandardScaler' class from the 'sklearn.preprocessing' module is used to perform parameter scaling.\n# - The 'PolynomialFeatures' class from the 'sklearn.preprocessing' module is used to create polynomial features.\n# - The 'LinearRegression' class from the 'sklearn.linear_model' module is used for linear regression.\n# - The pipeline automatically applies the transformations in the specified order.",
      "metadata": {
        "trusted": true
      },
      "outputs": [
        {
          "name": "stdout",
          "text": "Mean Squared Error (MSE): 120934.2421875\nCoefficient of Determination (R^2): 0.6321802730109751\n",
          "output_type": "stream"
        }
      ],
      "execution_count": 18
    },
    {
      "cell_type": "markdown",
      "source": "# Prompt 6 Grid search and Ridge regression\nWrite a Python code that performs the following tasks.\n1. Use polynomial features for some of the attributes of a data frame.\n2. Perform Grid search on a ridge regression model for a set of values of hyperparameter alpha and polynomial features as input.\n3. Use cross-validation in the Grid search.\n4. Evaluate the resulting model's MSE and R^2 values.\n",
      "metadata": {}
    },
    {
      "cell_type": "code",
      "source": "import pandas as pd\nfrom sklearn.model_selection import GridSearchCV, train_test_split\nfrom sklearn.preprocessing import PolynomialFeatures\nfrom sklearn.linear_model import Ridge\nfrom sklearn.pipeline import make_pipeline\nfrom sklearn.metrics import mean_squared_error, r2_score\n\n# Assuming 'source_columns' is a list of column names and 'target_column' is the target column name\nsource_columns = ['CPU_frequency', 'RAM_GB', 'Storage_GB_SSD', 'CPU_core', 'OS', 'GPU' , 'Category'] #['source_column1', 'source_column2']\ntarget_column = 'Price' #'target_column'\n\n# Assuming 'df' is the pandas data frame containing the data\nX = df[source_columns]\ny = df[target_column]\n\n# Create polynomial features for the input data\npoly = PolynomialFeatures(degree=2)\nX_poly = poly.fit_transform(X)\n\n# Split the data into training and testing sets\nX_train, X_test, y_train, y_test = train_test_split(X_poly, y, test_size=0.2, random_state=42)\n\n# Define the Ridge regression model\nridge = Ridge()\n\n# Perform Grid search with cross-validation\nparam_grid = {\n    'alpha':  [0.0001,0.001,0.01, 0.1, 1, 10], #[0.1, 1, 10],\n}\n\ngrid_search = GridSearchCV(ridge, param_grid, cv=4)\ngrid_search.fit(X_train, y_train)\n\n# Make predictions using the best model from Grid search\nbest_model = grid_search.best_estimator_\ny_pred = best_model.predict(X_test)\n\n# Calculate Mean Squared Error and R^2 values\nmse = mean_squared_error(y_test, y_pred)\nr2 = r2_score(y_test, y_pred)\n\nprint(\"Mean Squared Error:\", mse)\nprint(\"R^2 Score:\", r2)",
      "metadata": {
        "trusted": true
      },
      "outputs": [
        {
          "name": "stdout",
          "text": "Mean Squared Error: 240003.5674572609\nR^2 Score: -0.04139254709794593\n",
          "output_type": "stream"
        }
      ],
      "execution_count": 26
    },
    {
      "cell_type": "markdown",
      "source": "### Reference Ans",
      "metadata": {}
    },
    {
      "cell_type": "code",
      "source": "import pandas as pd\nimport numpy as np\nfrom sklearn.model_selection import GridSearchCV, cross_val_score\nfrom sklearn.preprocessing import PolynomialFeatures\nfrom sklearn.linear_model import Ridge\nfrom sklearn.metrics import mean_squared_error, r2_score\n\n# Assume you have a pandas data frame called 'data_frame' with multiple columns: 'source_variable_1', 'source_variable_2', ..., 'target_variable'\n\n# Extract the source variables and target variable from the data frame\nX = data_frame[['CPU_frequency', 'RAM_GB', 'Storage_GB_SSD', 'CPU_core', 'OS', 'GPU' , 'Category']]\ny = data_frame['Price']\n\n# Create polynomial features\npolynomial_features = PolynomialFeatures(degree=2)\n\n# Transform the source variables into polynomial features\nX_poly = polynomial_features.fit_transform(X)\n\n# Define the hyperparameter values for the grid search\nparam_grid = {'alpha': [0.0001,0.001,0.01, 0.1, 1, 10]\n             \n             }\n\n# Initialize a ridge regression model\nmodel = Ridge()\n\n# Perform grid search with cross-validation\ngrid_search = GridSearchCV(model, param_grid, cv=4)\n\n# Train the model using the polynomial features and target variable\ngrid_search.fit(X_poly, y)\n\n# Make predictions using the trained model\ny_pred = grid_search.predict(X_poly)\n\n# Calculate the mean squared error (MSE)\nmse = mean_squared_error(y, y_pred)\n\n# Calculate the coefficient of determination (R^2)\nr2 = r2_score(y, y_pred)\n\n# Display the MSE and R^2 values\nprint(\"Mean Squared Error (MSE):\", mse)\nprint(\"Coefficient of Determination (R^2):\", r2)\n\n# Additional details:\n# - The 'PolynomialFeatures' class from the 'sklearn.preprocessing' module is used to create polynomial features.\n# - The 'GridSearchCV' class from the 'sklearn.model_selection' module is used to perform grid search with cross-validation.\n# - The 'Ridge' class from the 'sklearn.linear_model' module is used for ridge regression.\n# - The 'fit_transform()' method is used to transform the source variables into polynomial features.\n# - The 'param_grid' parameter in the 'GridSearchCV' class specifies the hyperparameter values to search over.\n# - The 'cv' parameter in the 'GridSearchCV' class specifies the number of folds for cross-validation.\n# - The best model found by grid search can be accessed using the 'best_estimator_' attribute of the grid search object.",
      "metadata": {
        "trusted": true
      },
      "outputs": [
        {
          "name": "stdout",
          "text": "Mean Squared Error (MSE): 128987.04078699532\nCoefficient of Determination (R^2): 0.6076878039733669\n",
          "output_type": "stream"
        }
      ],
      "execution_count": 25
    },
    {
      "cell_type": "code",
      "source": "",
      "metadata": {
        "trusted": true
      },
      "outputs": [],
      "execution_count": null
    },
    {
      "cell_type": "code",
      "source": "",
      "metadata": {
        "trusted": true
      },
      "outputs": [],
      "execution_count": null
    },
    {
      "cell_type": "markdown",
      "source": "## Authors\n",
      "metadata": {}
    },
    {
      "cell_type": "markdown",
      "source": "[Abhishek Gagneja](https://www.linkedin.com/in/abhishek-gagneja-23051987/)\n",
      "metadata": {}
    },
    {
      "cell_type": "markdown",
      "source": "## Change Log\n",
      "metadata": {}
    },
    {
      "cell_type": "markdown",
      "source": "|Date (YYYY-MM-DD)|Version|Changed By|Change Description|\n|-|-|-|-|\n|2023-12-10|0.1|Abhishek Gagneja|Initial Draft created|\n",
      "metadata": {}
    },
    {
      "cell_type": "markdown",
      "source": "Copyright © 2023 IBM Corporation. All rights reserved.\n",
      "metadata": {}
    }
  ]
}