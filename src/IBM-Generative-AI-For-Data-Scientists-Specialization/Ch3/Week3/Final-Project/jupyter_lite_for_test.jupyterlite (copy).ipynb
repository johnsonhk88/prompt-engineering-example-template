{
  "cells": [
    {
      "cell_type": "markdown",
      "metadata": {},
      "source": [
        "<p style=\"text-align:center\">\n",
        "    <a href=\"https://skills.network\" target=\"_blank\">\n",
        "    <img src=\"https://cf-courses-data.s3.us.cloud-object-storage.appdomain.cloud/assets/logos/SN_web_lightmode.png\" width=\"300\" alt=\"Skills Network Logo\">\n",
        "    </a>\n",
        "</p>\n"
      ]
    },
    {
      "cell_type": "markdown",
      "metadata": {},
      "source": [
        "# Test Environment for Generative AI classroom labs\n",
        "\n",
        "This lab provides a test environment for the codes generated using the Generative AI classroom.\n",
        "\n",
        "Follow the instructions below to set up this environment for further use.\n"
      ]
    },
    {
      "cell_type": "markdown",
      "metadata": {},
      "source": [
        "# Setup\n"
      ]
    },
    {
      "cell_type": "markdown",
      "metadata": {},
      "source": [
        "### Install required libraries\n",
        "\n",
        "In case of a requirement of installing certain python libraries for use in your task, you may do so as shown below.\n"
      ]
    },
    {
      "cell_type": "code",
      "execution_count": 1,
      "metadata": {
        "trusted": true
      },
      "outputs": [],
      "source": [
        "%pip install seaborn\n",
        "import piplite\n",
        "\n",
        "await piplite.install(['nbformat', 'plotly'])"
      ]
    },
    {
      "cell_type": "markdown",
      "metadata": {},
      "source": [
        "### Dataset URL from the GenAI lab\n",
        "Use the URL provided in the GenAI lab in the cell below. \n"
      ]
    },
    {
      "cell_type": "code",
      "execution_count": 2,
      "metadata": {
        "trusted": true
      },
      "outputs": [],
      "source": [
        "# URL = \n",
        "# URL = \"https://cf-courses-data.s3.us.cloud-object-storage.appdomain.cloud/IBMDeveloperSkillsNetwork-DA0101EN-Coursera/laptop_pricing_dataset_mod2.csv\"\n",
        "URL = \"https://cf-courses-data.s3.us.cloud-object-storage.appdomain.cloud/IBMSkillsNetwork-AI0271EN-SkillsNetwork/labs/v1/m3/data/used_car_price_analysis.csv\""
      ]
    },
    {
      "cell_type": "markdown",
      "metadata": {},
      "source": [
        "### Downloading the dataset\n",
        "\n",
        "Execute the following code to download the dataset in to the interface.\n",
        "\n",
        "> Please note that this step is essential in JupyterLite. If you are using a downloaded version of this notebook and running it on JupyterLabs, then you can skip this step and directly use the URL in pandas.read_csv() function to read the dataset as a dataframe\n"
      ]
    },
    {
      "cell_type": "code",
      "execution_count": 3,
      "metadata": {
        "trusted": true
      },
      "outputs": [],
      "source": [
        "from pyodide.http import pyfetch\n",
        "\n",
        "async def download(url, filename):\n",
        "    response = await pyfetch(url)\n",
        "    if response.status == 200:\n",
        "        with open(filename, \"wb\") as f:\n",
        "            f.write(await response.bytes())\n",
        "\n",
        "path = URL\n",
        "\n",
        "await download(path, \"dataset.csv\")"
      ]
    },
    {
      "cell_type": "markdown",
      "metadata": {},
      "source": [
        "---\n"
      ]
    },
    {
      "cell_type": "markdown",
      "metadata": {},
      "source": [
        "# Test Environment\n"
      ]
    },
    {
      "cell_type": "markdown",
      "metadata": {},
      "source": [
        "# Prompt 1 Importing the Dataset\n",
        "Write a Python code that can perform the following tasks.\n",
        "1. Read the CSV file, located on a given file path, into a pandas data frame, assuming that the first row of the file can be used as the headers for the data.\n",
        "2. Print the first 5 rows of the dataframe to verify correct loading."
      ]
    },
    {
      "cell_type": "code",
      "execution_count": 4,
      "metadata": {
        "trusted": true
      },
      "outputs": [
        {
          "name": "stdout",
          "output_type": "stream",
          "text": [
            "     model  year transmission  mileage fuelType    tax   mpg  engineSize  \\\n",
            "0   Fiesta  2017    Automatic    15944   Petrol  150.0  57.7         1.0   \n",
            "1    Focus  2018       Manual     9083   Petrol  150.0  57.7         1.0   \n",
            "2    Focus  2017       Manual    12456   Petrol  150.0  57.7         1.0   \n",
            "3   Fiesta  2019       Manual    10460   Petrol  145.0  40.3         1.5   \n",
            "4   Fiesta  2019    Automatic     1482   Petrol  145.0  48.7         1.0   \n",
            "\n",
            "   price  \n",
            "0  12000  \n",
            "1  14000  \n",
            "2  13000  \n",
            "3  17500  \n",
            "4  16500  \n"
          ]
        }
      ],
      "source": [
        "import pandas as pd\n",
        "\n",
        "# Specify the file path where the CSV file is located\n",
        "file_path = \"dataset.csv\"\n",
        "\n",
        "# Read the CSV file into a pandas data frame\n",
        "df = pd.read_csv(file_path)\n",
        "\n",
        "# Print the first 5 rows of the dataframe\n",
        "print(df.head())"
      ]
    },
    {
      "cell_type": "code",
      "execution_count": null,
      "metadata": {
        "trusted": true
      },
      "outputs": [],
      "source": []
    },
    {
      "cell_type": "markdown",
      "metadata": {},
      "source": [
        "# Prompt 2  Data Preparation (Data Cleaning)\n",
        "Write a python code that performs the following tasks:\n",
        "1. Identify the columns of a data frame with missing values.\n",
        "2. Replace the missing values thus identified with mean value of the column.\n",
        "3. Deletes the duplicate entries from the data frame."
      ]
    },
    {
      "cell_type": "code",
      "execution_count": 5,
      "metadata": {
        "trusted": true
      },
      "outputs": [],
      "source": [
        "import pandas as pd\n",
        "\n",
        "# Assume 'df' is the pandas data frame you are working with\n",
        "\n",
        "# Identify columns with missing values\n",
        "columns_with_missing_values = df.columns[df.isnull().any()]\n",
        "\n",
        "# Replace missing values with mean value of the column\n",
        "for column in columns_with_missing_values:\n",
        "    mean_value = df[column].mean()\n",
        "    df[column].fillna(mean_value, inplace=True)\n",
        "\n",
        "# Delete duplicate entries\n",
        "df.drop_duplicates(inplace=True)"
      ]
    },
    {
      "cell_type": "code",
      "execution_count": 6,
      "metadata": {
        "trusted": true
      },
      "outputs": [
        {
          "data": {
            "text/html": [
              "<div>\n",
              "<style scoped>\n",
              "    .dataframe tbody tr th:only-of-type {\n",
              "        vertical-align: middle;\n",
              "    }\n",
              "\n",
              "    .dataframe tbody tr th {\n",
              "        vertical-align: top;\n",
              "    }\n",
              "\n",
              "    .dataframe thead th {\n",
              "        text-align: right;\n",
              "    }\n",
              "</style>\n",
              "<table border=\"1\" class=\"dataframe\">\n",
              "  <thead>\n",
              "    <tr style=\"text-align: right;\">\n",
              "      <th></th>\n",
              "      <th>year</th>\n",
              "      <th>mileage</th>\n",
              "      <th>tax</th>\n",
              "      <th>mpg</th>\n",
              "      <th>engineSize</th>\n",
              "      <th>price</th>\n",
              "    </tr>\n",
              "  </thead>\n",
              "  <tbody>\n",
              "    <tr>\n",
              "      <th>count</th>\n",
              "      <td>17812.000000</td>\n",
              "      <td>17812.000000</td>\n",
              "      <td>17812.000000</td>\n",
              "      <td>17812.000000</td>\n",
              "      <td>17812.000000</td>\n",
              "      <td>17812.000000</td>\n",
              "    </tr>\n",
              "    <tr>\n",
              "      <th>mean</th>\n",
              "      <td>2016.862396</td>\n",
              "      <td>23381.146362</td>\n",
              "      <td>113.314731</td>\n",
              "      <td>57.908696</td>\n",
              "      <td>1.350623</td>\n",
              "      <td>12269.556310</td>\n",
              "    </tr>\n",
              "    <tr>\n",
              "      <th>std</th>\n",
              "      <td>2.052039</td>\n",
              "      <td>19419.011045</td>\n",
              "      <td>62.034599</td>\n",
              "      <td>10.132696</td>\n",
              "      <td>0.432581</td>\n",
              "      <td>4736.285417</td>\n",
              "    </tr>\n",
              "    <tr>\n",
              "      <th>min</th>\n",
              "      <td>1996.000000</td>\n",
              "      <td>1.000000</td>\n",
              "      <td>0.000000</td>\n",
              "      <td>20.800000</td>\n",
              "      <td>0.000000</td>\n",
              "      <td>495.000000</td>\n",
              "    </tr>\n",
              "    <tr>\n",
              "      <th>25%</th>\n",
              "      <td>2016.000000</td>\n",
              "      <td>10000.000000</td>\n",
              "      <td>30.000000</td>\n",
              "      <td>52.300000</td>\n",
              "      <td>1.000000</td>\n",
              "      <td>8999.000000</td>\n",
              "    </tr>\n",
              "    <tr>\n",
              "      <th>50%</th>\n",
              "      <td>2017.000000</td>\n",
              "      <td>18277.000000</td>\n",
              "      <td>145.000000</td>\n",
              "      <td>58.900000</td>\n",
              "      <td>1.200000</td>\n",
              "      <td>11288.000000</td>\n",
              "    </tr>\n",
              "    <tr>\n",
              "      <th>75%</th>\n",
              "      <td>2018.000000</td>\n",
              "      <td>31098.500000</td>\n",
              "      <td>145.000000</td>\n",
              "      <td>65.700000</td>\n",
              "      <td>1.500000</td>\n",
              "      <td>15295.000000</td>\n",
              "    </tr>\n",
              "    <tr>\n",
              "      <th>max</th>\n",
              "      <td>2060.000000</td>\n",
              "      <td>177644.000000</td>\n",
              "      <td>580.000000</td>\n",
              "      <td>201.800000</td>\n",
              "      <td>5.000000</td>\n",
              "      <td>54995.000000</td>\n",
              "    </tr>\n",
              "  </tbody>\n",
              "</table>\n",
              "</div>"
            ],
            "text/plain": [
              "               year        mileage           tax           mpg    engineSize  \\\n",
              "count  17812.000000   17812.000000  17812.000000  17812.000000  17812.000000   \n",
              "mean    2016.862396   23381.146362    113.314731     57.908696      1.350623   \n",
              "std        2.052039   19419.011045     62.034599     10.132696      0.432581   \n",
              "min     1996.000000       1.000000      0.000000     20.800000      0.000000   \n",
              "25%     2016.000000   10000.000000     30.000000     52.300000      1.000000   \n",
              "50%     2017.000000   18277.000000    145.000000     58.900000      1.200000   \n",
              "75%     2018.000000   31098.500000    145.000000     65.700000      1.500000   \n",
              "max     2060.000000  177644.000000    580.000000    201.800000      5.000000   \n",
              "\n",
              "              price  \n",
              "count  17812.000000  \n",
              "mean   12269.556310  \n",
              "std     4736.285417  \n",
              "min      495.000000  \n",
              "25%     8999.000000  \n",
              "50%    11288.000000  \n",
              "75%    15295.000000  \n",
              "max    54995.000000  "
            ]
          },
          "execution_count": 6,
          "metadata": {},
          "output_type": "execute_result"
        }
      ],
      "source": [
        "df.describe()"
      ]
    },
    {
      "cell_type": "markdown",
      "metadata": {},
      "source": [
        "# Data Insights and Visualization"
      ]
    },
    {
      "cell_type": "markdown",
      "metadata": {},
      "source": [
        "# Prompt 3 \n",
        "Write a python code that identifies the top 5 attributes with highest correlation with the target attribute in a data frame."
      ]
    },
    {
      "cell_type": "code",
      "execution_count": 9,
      "metadata": {
        "trusted": true
      },
      "outputs": [
        {
          "name": "stderr",
          "output_type": "stream",
          "text": [
            "<ipython-input-9-3961f60b0085>:7: FutureWarning: The default value of numeric_only in DataFrame.corr is deprecated. In a future version, it will default to False. Select only valid columns or specify the value of numeric_only to silence this warning.\n",
            "  correlation_matrix = df.corr()\n"
          ]
        },
        {
          "name": "stdout",
          "output_type": "stream",
          "text": [
            "year          0.635715\n",
            "engineSize    0.411451\n",
            "tax           0.405970\n",
            "mpg          -0.346263\n",
            "mileage      -0.530483\n",
            "Name: price, dtype: float64\n"
          ]
        }
      ],
      "source": [
        "import pandas as pd\n",
        "\n",
        "# Assume 'df' is the pandas data frame you are working with\n",
        "# Assume 'target_column' is the name of the target attribute\n",
        "\n",
        "# Calculate the correlation matrix\n",
        "correlation_matrix = df.corr()\n",
        "\n",
        "# Sort the correlations with the target attribute\n",
        "correlations_with_target = correlation_matrix['price'].sort_values(ascending=False)\n",
        "\n",
        "# Identify the top 5 attributes with the highest correlation with the target attribute\n",
        "top_5_correlations = correlations_with_target[1:6]\n",
        "\n",
        "print(top_5_correlations)"
      ]
    },
    {
      "cell_type": "markdown",
      "metadata": {},
      "source": [
        "\n",
        "# Prompt 4\n",
        "Write a python code that counts the number of entries in a dataframe with each unique value of a specific attribute."
      ]
    },
    {
      "cell_type": "code",
      "execution_count": 10,
      "metadata": {
        "trusted": true
      },
      "outputs": [
        {
          "name": "stdout",
          "output_type": "stream",
          "text": [
            "Petrol      12081\n",
            "Diesel       5706\n",
            "Hybrid         22\n",
            "Electric        2\n",
            "Other           1\n",
            "Name: fuelType, dtype: int64\n"
          ]
        }
      ],
      "source": [
        "import pandas as pd\n",
        "\n",
        "# Assume 'df' is the pandas data frame you are working with\n",
        "# Assume 'specific_attribute' is the name of the specific attribute you want to count unique values for\n",
        "\n",
        "# Count the number of entries with each unique value of the specific attribute\n",
        "unique_value_counts = df['fuelType'].value_counts()\n",
        "\n",
        "print(unique_value_counts)"
      ]
    },
    {
      "cell_type": "markdown",
      "metadata": {},
      "source": [
        "# Prompt 5\n",
        "Write a python code that creates a Seaborn box plot between a source and target attributes of a dataframe."
      ]
    },
    {
      "cell_type": "code",
      "execution_count": 11,
      "metadata": {
        "trusted": true
      },
      "outputs": [
        {
          "data": {
            "image/png": "[encoded data removed]",
            "text/plain": [
              "<Figure size 640x480 with 1 Axes>"
            ]
          },
          "metadata": {},
          "output_type": "display_data"
        }
      ],
      "source": [
        "import seaborn as sns\n",
        "import pandas as pd\n",
        "import matplotlib.pyplot as plt\n",
        "\n",
        "# Assume 'df' is the pandas data frame you are working with\n",
        "# Assume 'source_attribute' is the name of the source attribute\n",
        "# Assume 'target_attribute' is the name of the target attribute\n",
        "\n",
        "# Create a box plot using Seaborn\n",
        "sns.boxplot(x=df['transmission'], y=df['price'])\n",
        "\n",
        "# Show the plot\n",
        "plt.show()"
      ]
    },
    {
      "cell_type": "markdown",
      "metadata": {},
      "source": [
        "\n",
        "# Prompt 6\n",
        "Write a python code that creates a regression plot between a source attribute and a target attribute."
      ]
    },
    {
      "cell_type": "code",
      "execution_count": 12,
      "metadata": {
        "trusted": true
      },
      "outputs": [
        {
          "data": {
            "image/png": "[encoded data removed]",
            "text/plain": [
              "<Figure size 640x480 with 1 Axes>"
            ]
          },
          "metadata": {},
          "output_type": "display_data"
        }
      ],
      "source": [
        "import seaborn as sns\n",
        "import pandas as pd\n",
        "import matplotlib.pyplot as plt\n",
        "\n",
        "# Assume 'df' is the pandas data frame you are working with\n",
        "# Assume 'source_attribute' is the name of the source attribute\n",
        "# Assume 'target_attribute' is the name of the target attribute\n",
        "\n",
        "# Create a regression plot using Seaborn\n",
        "sns.regplot(x=df['mpg'], y=df['price'])\n",
        "\n",
        "# Show the plot\n",
        "plt.show()"
      ]
    },
    {
      "cell_type": "markdown",
      "metadata": {},
      "source": [
        "# Model Development and Evaluation"
      ]
    },
    {
      "cell_type": "markdown",
      "metadata": {},
      "source": [
        "# Prompt 7\n",
        "Write a python code to fit a linear regression model on a target variable on basis of a source variable. Calculate the R^2 values and MSE values for this model."
      ]
    },
    {
      "cell_type": "code",
      "execution_count": 13,
      "metadata": {
        "trusted": true
      },
      "outputs": [
        {
          "name": "stdout",
          "output_type": "stream",
          "text": [
            "R^2 value: 0.1198980224962416\n",
            "Mean Squared Error (MSE): 19741690.809446193\n"
          ]
        }
      ],
      "source": [
        "from sklearn.linear_model import LinearRegression\n",
        "from sklearn.metrics import r2_score, mean_squared_error\n",
        "import pandas as pd\n",
        "\n",
        "# Assume 'df' is the pandas data frame you are working with\n",
        "# Assume 'source_attribute' is the name of the source attribute\n",
        "# Assume 'target_attribute' is the name of the target attribute\n",
        "\n",
        "# Create the feature matrix X and target vector y\n",
        "X = df[['mpg']]\n",
        "y = df['price']\n",
        "\n",
        "# Fit a linear regression model\n",
        "model = LinearRegression()\n",
        "model.fit(X, y)\n",
        "\n",
        "# Predict the target variable\n",
        "y_pred = model.predict(X)\n",
        "\n",
        "# Calculate R^2 value\n",
        "r2 = r2_score(y, y_pred)\n",
        "\n",
        "# Calculate Mean Squared Error (MSE)\n",
        "mse = mean_squared_error(y, y_pred)\n",
        "\n",
        "print(\"R^2 value:\", r2)\n",
        "print(\"Mean Squared Error (MSE):\", mse)"
      ]
    },
    {
      "cell_type": "markdown",
      "metadata": {},
      "source": [
        "# Prompt 8\n",
        "Write a python code to fit a linear regression model on a target variable on basis of a set of source variables. Calculate the R^2 values and MSE values for this model."
      ]
    },
    {
      "cell_type": "code",
      "execution_count": 14,
      "metadata": {
        "trusted": true
      },
      "outputs": [
        {
          "name": "stdout",
          "output_type": "stream",
          "text": [
            "R^2 value: 0.7265379654547005\n",
            "Mean Squared Error (MSE): 6134065.224381731\n"
          ]
        }
      ],
      "source": [
        "from sklearn.linear_model import LinearRegression\n",
        "from sklearn.metrics import r2_score, mean_squared_error\n",
        "import pandas as pd\n",
        "\n",
        "# Assume 'df' is the pandas data frame you are working with\n",
        "# Assume 'source_attributes' is a list of names of the source attributes\n",
        "# Assume 'target_attribute' is the name of the target attribute\n",
        "\n",
        "# Create the feature matrix X and target vector y\n",
        "X = df[['year', 'mileage', 'tax', 'mpg', 'engineSize' ]]\n",
        "y = df['price']\n",
        "\n",
        "# Fit a linear regression model\n",
        "model = LinearRegression()\n",
        "model.fit(X, y)\n",
        "\n",
        "# Predict the target variable\n",
        "y_pred = model.predict(X)\n",
        "\n",
        "# Calculate R^2 value\n",
        "r2 = r2_score(y, y_pred)\n",
        "\n",
        "# Calculate Mean Squared Error (MSE)\n",
        "mse = mean_squared_error(y, y_pred)\n",
        "\n",
        "print(\"R^2 value:\", r2)\n",
        "print(\"Mean Squared Error (MSE):\", mse)"
      ]
    },
    {
      "cell_type": "markdown",
      "metadata": {},
      "source": [
        "# Prompt 9\n",
        "Write a python code that can perform the following tasks.\n",
        "\n",
        "1. Create a pipeline with standard scalar, second degree polynomial features and linear regression model.\n",
        "2. Fit this pipeline for a target variable using a set of source attributes from a dataframe.\n",
        "3. Evaluate the R^2 and MSE values for the trained model."
      ]
    },
    {
      "cell_type": "code",
      "execution_count": 15,
      "metadata": {
        "trusted": true
      },
      "outputs": [
        {
          "name": "stdout",
          "output_type": "stream",
          "text": [
            "R^2 value: 0.7666619695239302\n",
            "Mean Squared Error (MSE): 5234038.06546274\n"
          ]
        }
      ],
      "source": [
        "from sklearn.pipeline import Pipeline\n",
        "from sklearn.preprocessing import StandardScaler, PolynomialFeatures\n",
        "from sklearn.linear_model import LinearRegression\n",
        "from sklearn.metrics import r2_score, mean_squared_error\n",
        "import pandas as pd\n",
        "\n",
        "# Assume 'df' is the pandas data frame you are working with\n",
        "# Assume 'source_attributes' is a list of names of the source attributes\n",
        "# Assume 'target_attribute' is the name of the target attribute\n",
        "\n",
        "# Create the feature matrix X and target vector y\n",
        "# X = df[source_attributes]\n",
        "# y = df['target_attribute']\n",
        "X = df[['year', 'mileage', 'tax', 'mpg', 'engineSize' ]]\n",
        "y = df['price']\n",
        "\n",
        "\n",
        "# Create a pipeline with StandardScaler, PolynomialFeatures, and LinearRegression\n",
        "pipeline = Pipeline([\n",
        "    ('scaler', StandardScaler()),\n",
        "    ('poly_features', PolynomialFeatures(degree=2)),\n",
        "    ('regression', LinearRegression())\n",
        "])\n",
        "\n",
        "# Fit the pipeline\n",
        "pipeline.fit(X, y)\n",
        "\n",
        "# Predict the target variable\n",
        "y_pred = pipeline.predict(X)\n",
        "\n",
        "# Calculate R^2 value\n",
        "r2 = r2_score(y, y_pred)\n",
        "\n",
        "# Calculate Mean Squared Error (MSE)\n",
        "mse = mean_squared_error(y, y_pred)\n",
        "\n",
        "print(\"R^2 value:\", r2)\n",
        "print(\"Mean Squared Error (MSE):\", mse)"
      ]
    },
    {
      "cell_type": "markdown",
      "metadata": {},
      "source": [
        "# Prompt 10\n",
        "Write a python code that can perform the following tasks.\n",
        "\n",
        "1. Assuming that a subset of the attributes of a data frame are source attributes and one of the attributes is a target attribute, split the data into training and testing data assuming the testing data to be 20%.\n",
        "2. Create and fit a Ridge regression model using the training data, setting the regularization parameter to 0.1.\n",
        "3. Calculate the MSE and R^2 values for the Ridge Regression model using the testing data."
      ]
    },
    {
      "cell_type": "code",
      "execution_count": 16,
      "metadata": {
        "trusted": true
      },
      "outputs": [
        {
          "name": "stdout",
          "output_type": "stream",
          "text": [
            "R^2 value: 0.6917134446113138\n",
            "Mean Squared Error (MSE): 6912725.801054926\n"
          ]
        }
      ],
      "source": [
        "from sklearn.model_selection import train_test_split\n",
        "from sklearn.linear_model import Ridge\n",
        "from sklearn.metrics import r2_score, mean_squared_error\n",
        "import pandas as pd\n",
        "\n",
        "# Assume 'df' is the pandas data frame you are working with\n",
        "# Assume 'source_attributes' is a list of names of the source attributes\n",
        "# Assume 'target_attribute' is the name of the target attribute\n",
        "\n",
        "# Create the feature matrix X and target vector y\n",
        "# X = df[source_attributes]\n",
        "# y = df['target_attribute']\n",
        "X = df[['year', 'mileage', 'tax', 'mpg', 'engineSize' ]]\n",
        "y = df['price']\n",
        "\n",
        "\n",
        "# Split the data into training and testing sets (80% training, 20% testing)\n",
        "X_train, X_test, y_train, y_test = train_test_split(X, y, test_size=0.2, random_state=42)\n",
        "\n",
        "# Create and fit a Ridge regression model with regularization parameter = 0.1\n",
        "ridge_model = Ridge(alpha=0.1)\n",
        "ridge_model.fit(X_train, y_train)\n",
        "\n",
        "# Predict the target variable using the testing data\n",
        "y_pred = ridge_model.predict(X_test)\n",
        "\n",
        "# Calculate R^2 value\n",
        "r2 = r2_score(y_test, y_pred)\n",
        "\n",
        "# Calculate Mean Squared Error (MSE)\n",
        "mse = mean_squared_error(y_test, y_pred)\n",
        "\n",
        "print(\"R^2 value:\", r2)\n",
        "print(\"Mean Squared Error (MSE):\", mse)"
      ]
    },
    {
      "cell_type": "markdown",
      "metadata": {},
      "source": [
        "# Prompt 11\n",
        "Write a python code that can perform the following tasks.\n",
        "\n",
        "1. Assuming that a subset of the attributes of a data frame are source attributes and one of the attributes is a target attribute, split the data into training and testing data assuming the testing data to be 20%.\n",
        "2. Apply second degree polynomial scaling to the training and testing data.\n",
        "3. Create and fit a Ridge regression model using the training data, setting the regularization parameter to 0.1.\n",
        "4. Calculate the MSE and R^2 values for the Ridge Regression model using the testing data."
      ]
    },
    {
      "cell_type": "code",
      "execution_count": 19,
      "metadata": {
        "trusted": true
      },
      "outputs": [
        {
          "name": "stderr",
          "output_type": "stream",
          "text": [
            "/lib/python3.11/site-packages/sklearn/linear_model/_ridge.py:200: LinAlgWarning: Ill-conditioned matrix (rcond=2.17676e-24): result may not be accurate.\n",
            "  return linalg.solve(A, Xy, assume_a=\"pos\", overwrite_a=True).T\n"
          ]
        },
        {
          "name": "stdout",
          "output_type": "stream",
          "text": [
            "R^2 value: 0.6732748888228912\n",
            "Mean Squared Error (MSE): 7326174.516559619\n"
          ]
        }
      ],
      "source": [
        "from sklearn.model_selection import train_test_split\n",
        "from sklearn.preprocessing import PolynomialFeatures\n",
        "from sklearn.linear_model import Ridge\n",
        "from sklearn.metrics import r2_score, mean_squared_error\n",
        "import pandas as pd\n",
        "\n",
        "# Assume 'df' is the pandas data frame you are working with\n",
        "# Assume 'source_attributes' is a list of names of the source attributes\n",
        "# Assume 'target_attribute' is the name of the target attribute\n",
        "\n",
        "# Create the feature matrix X and target vector y\n",
        "# X = df[source_attributes]\n",
        "# y = df['target_attribute']\n",
        "X = df[['year', 'mileage', 'tax', 'mpg', 'engineSize' ]]\n",
        "y = df['price']\n",
        "\n",
        "# Split the data into training and testing sets (80% training, 20% testing)\n",
        "X_train, X_test, y_train, y_test = train_test_split(X, y, test_size=0.2, random_state=42)\n",
        "\n",
        "# Apply second degree polynomial scaling to the training and testing data\n",
        "poly = PolynomialFeatures(degree=2)\n",
        "X_train_poly = poly.fit_transform(X_train)\n",
        "X_test_poly = poly.transform(X_test)\n",
        "\n",
        "# Create and fit a Ridge regression model with regularization parameter = 0.1\n",
        "ridge_model = Ridge(alpha=0.1)\n",
        "ridge_model.fit(X_train_poly, y_train)\n",
        "\n",
        "# Predict the target variable using the testing data\n",
        "y_pred = ridge_model.predict(X_test_poly)\n",
        "\n",
        "# Calculate R^2 value\n",
        "r2 = r2_score(y_test, y_pred)\n",
        "\n",
        "# Calculate Mean Squared Error (MSE)\n",
        "mse = mean_squared_error(y_test, y_pred)\n",
        "\n",
        "print(\"R^2 value:\", r2)\n",
        "print(\"Mean Squared Error (MSE):\", mse)"
      ]
    },
    {
      "cell_type": "markdown",
      "metadata": {},
      "source": [
        "# Prompt 12\n",
        "Write a python code that can perform the following tasks.\n",
        "\n",
        "1. Assuming that a subset of the attributes of a data frame are source attributes and one of the attributes is a target attribute, split the data into training and testing data assuming the testing data to be 20%.\n",
        "2. Apply second degree polynomial scaling to the training and testing data.\n",
        "3. Create and fit a Grid search on Ridge regression with cross validation using the training data, for a set of values of the parameter alpha.\n",
        "4. Calculate the MSE and R^2 values for the Ridge Regression model using the testing data."
      ]
    },
    {
      "cell_type": "code",
      "execution_count": 22,
      "metadata": {
        "trusted": true
      },
      "outputs": [
        {
          "name": "stderr",
          "output_type": "stream",
          "text": [
            "/lib/python3.11/site-packages/sklearn/linear_model/_ridge.py:200: LinAlgWarning: Ill-conditioned matrix (rcond=2.93807e-25): result may not be accurate.\n",
            "  return linalg.solve(A, Xy, assume_a=\"pos\", overwrite_a=True).T\n",
            "/lib/python3.11/site-packages/sklearn/linear_model/_ridge.py:200: LinAlgWarning: Ill-conditioned matrix (rcond=2.88233e-25): result may not be accurate.\n",
            "  return linalg.solve(A, Xy, assume_a=\"pos\", overwrite_a=True).T\n",
            "/lib/python3.11/site-packages/sklearn/linear_model/_ridge.py:200: LinAlgWarning: Ill-conditioned matrix (rcond=3.01744e-25): result may not be accurate.\n",
            "  return linalg.solve(A, Xy, assume_a=\"pos\", overwrite_a=True).T\n",
            "/lib/python3.11/site-packages/sklearn/linear_model/_ridge.py:200: LinAlgWarning: Ill-conditioned matrix (rcond=2.78199e-25): result may not be accurate.\n",
            "  return linalg.solve(A, Xy, assume_a=\"pos\", overwrite_a=True).T\n",
            "/lib/python3.11/site-packages/sklearn/linear_model/_ridge.py:200: LinAlgWarning: Ill-conditioned matrix (rcond=2.93807e-24): result may not be accurate.\n",
            "  return linalg.solve(A, Xy, assume_a=\"pos\", overwrite_a=True).T\n",
            "/lib/python3.11/site-packages/sklearn/linear_model/_ridge.py:200: LinAlgWarning: Ill-conditioned matrix (rcond=2.88233e-24): result may not be accurate.\n",
            "  return linalg.solve(A, Xy, assume_a=\"pos\", overwrite_a=True).T\n",
            "/lib/python3.11/site-packages/sklearn/linear_model/_ridge.py:200: LinAlgWarning: Ill-conditioned matrix (rcond=3.01744e-24): result may not be accurate.\n",
            "  return linalg.solve(A, Xy, assume_a=\"pos\", overwrite_a=True).T\n",
            "/lib/python3.11/site-packages/sklearn/linear_model/_ridge.py:200: LinAlgWarning: Ill-conditioned matrix (rcond=2.78199e-24): result may not be accurate.\n",
            "  return linalg.solve(A, Xy, assume_a=\"pos\", overwrite_a=True).T\n",
            "/lib/python3.11/site-packages/sklearn/linear_model/_ridge.py:200: LinAlgWarning: Ill-conditioned matrix (rcond=2.93807e-23): result may not be accurate.\n",
            "  return linalg.solve(A, Xy, assume_a=\"pos\", overwrite_a=True).T\n",
            "/lib/python3.11/site-packages/sklearn/linear_model/_ridge.py:200: LinAlgWarning: Ill-conditioned matrix (rcond=2.88233e-23): result may not be accurate.\n",
            "  return linalg.solve(A, Xy, assume_a=\"pos\", overwrite_a=True).T\n",
            "/lib/python3.11/site-packages/sklearn/linear_model/_ridge.py:200: LinAlgWarning: Ill-conditioned matrix (rcond=3.01744e-23): result may not be accurate.\n",
            "  return linalg.solve(A, Xy, assume_a=\"pos\", overwrite_a=True).T\n",
            "/lib/python3.11/site-packages/sklearn/linear_model/_ridge.py:200: LinAlgWarning: Ill-conditioned matrix (rcond=2.78199e-23): result may not be accurate.\n",
            "  return linalg.solve(A, Xy, assume_a=\"pos\", overwrite_a=True).T\n",
            "/lib/python3.11/site-packages/sklearn/linear_model/_ridge.py:200: LinAlgWarning: Ill-conditioned matrix (rcond=2.79036e-22): result may not be accurate.\n",
            "  return linalg.solve(A, Xy, assume_a=\"pos\", overwrite_a=True).T\n",
            "/lib/python3.11/site-packages/sklearn/linear_model/_ridge.py:200: LinAlgWarning: Ill-conditioned matrix (rcond=2.73946e-22): result may not be accurate.\n",
            "  return linalg.solve(A, Xy, assume_a=\"pos\", overwrite_a=True).T\n",
            "/lib/python3.11/site-packages/sklearn/linear_model/_ridge.py:200: LinAlgWarning: Ill-conditioned matrix (rcond=2.87056e-22): result may not be accurate.\n",
            "  return linalg.solve(A, Xy, assume_a=\"pos\", overwrite_a=True).T\n",
            "/lib/python3.11/site-packages/sklearn/linear_model/_ridge.py:200: LinAlgWarning: Ill-conditioned matrix (rcond=2.64735e-22): result may not be accurate.\n",
            "  return linalg.solve(A, Xy, assume_a=\"pos\", overwrite_a=True).T\n",
            "/lib/python3.11/site-packages/sklearn/linear_model/_ridge.py:200: LinAlgWarning: Ill-conditioned matrix (rcond=2.88726e-21): result may not be accurate.\n",
            "  return linalg.solve(A, Xy, assume_a=\"pos\", overwrite_a=True).T\n",
            "/lib/python3.11/site-packages/sklearn/linear_model/_ridge.py:200: LinAlgWarning: Ill-conditioned matrix (rcond=2.83427e-21): result may not be accurate.\n",
            "  return linalg.solve(A, Xy, assume_a=\"pos\", overwrite_a=True).T\n",
            "/lib/python3.11/site-packages/sklearn/linear_model/_ridge.py:200: LinAlgWarning: Ill-conditioned matrix (rcond=2.9672e-21): result may not be accurate.\n",
            "  return linalg.solve(A, Xy, assume_a=\"pos\", overwrite_a=True).T\n",
            "/lib/python3.11/site-packages/sklearn/linear_model/_ridge.py:200: LinAlgWarning: Ill-conditioned matrix (rcond=2.73679e-21): result may not be accurate.\n",
            "  return linalg.solve(A, Xy, assume_a=\"pos\", overwrite_a=True).T\n",
            "/lib/python3.11/site-packages/sklearn/linear_model/_ridge.py:200: LinAlgWarning: Ill-conditioned matrix (rcond=2.17676e-25): result may not be accurate.\n",
            "  return linalg.solve(A, Xy, assume_a=\"pos\", overwrite_a=True).T\n"
          ]
        },
        {
          "name": "stdout",
          "output_type": "stream",
          "text": [
            "R^2 value: 0.38273414165607345\n",
            "Mean Squared Error (MSE): 13840985.117578594\n"
          ]
        }
      ],
      "source": [
        "from sklearn.model_selection import train_test_split, GridSearchCV\n",
        "from sklearn.preprocessing import PolynomialFeatures\n",
        "from sklearn.linear_model import Ridge\n",
        "from sklearn.metrics import r2_score, mean_squared_error\n",
        "import pandas as pd\n",
        "\n",
        "# Assume 'df' is the pandas data frame you are working with\n",
        "# Assume 'source_attributes' is a list of names of the source attributes\n",
        "# Assume 'target_attribute' is the name of the target attribute\n",
        "\n",
        "# Create the feature matrix X and target vector y\n",
        "X = df[['year', 'mileage', 'tax', 'mpg', 'engineSize' ]]\n",
        "y = df['price']\n",
        "\n",
        "\n",
        "# Split the data into training and testing sets (80% training, 20% testing)\n",
        "X_train, X_test, y_train, y_test = train_test_split(X, y, test_size=0.2, random_state=42)\n",
        "\n",
        "# Apply second degree polynomial scaling to the training and testing data\n",
        "poly = PolynomialFeatures(degree=2)\n",
        "X_train_poly = poly.fit_transform(X_train)\n",
        "X_test_poly = poly.transform(X_test)\n",
        "\n",
        "# Create Ridge regression model\n",
        "ridge = Ridge()\n",
        "parameters = {'alpha': [0.01, 0.1, 1, 10, 100]}  # Set of values for the parameter alpha\n",
        "\n",
        "# Perform Grid search with cross validation\n",
        "ridge_grid = GridSearchCV(ridge, parameters, cv=4)\n",
        "ridge_grid.fit(X_train_poly, y_train)\n",
        "\n",
        "# Predict the target variable using the testing data\n",
        "y_pred = ridge_grid.predict(X_test_poly)\n",
        "\n",
        "# Calculate R^2 value\n",
        "r2 = r2_score(y_test, y_pred)\n",
        "\n",
        "# Calculate Mean Squared Error (MSE)\n",
        "mse = mean_squared_error(y_test, y_pred)\n",
        "\n",
        "print(\"R^2 value:\", r2)\n",
        "print(\"Mean Squared Error (MSE):\", mse)"
      ]
    },
    {
      "cell_type": "code",
      "execution_count": null,
      "metadata": {
        "trusted": true
      },
      "outputs": [],
      "source": []
    },
    {
      "cell_type": "code",
      "execution_count": null,
      "metadata": {
        "trusted": true
      },
      "outputs": [],
      "source": []
    },
    {
      "cell_type": "code",
      "execution_count": null,
      "metadata": {
        "trusted": true
      },
      "outputs": [],
      "source": []
    },
    {
      "cell_type": "markdown",
      "metadata": {},
      "source": [
        "## Authors\n"
      ]
    },
    {
      "cell_type": "markdown",
      "metadata": {},
      "source": [
        "[Abhishek Gagneja](https://www.linkedin.com/in/abhishek-gagneja-23051987/)\n"
      ]
    },
    {
      "cell_type": "markdown",
      "metadata": {},
      "source": [
        "## Change Log\n"
      ]
    },
    {
      "cell_type": "markdown",
      "metadata": {},
      "source": [
        "|Date (YYYY-MM-DD)|Version|Changed By|Change Description|\n",
        "|-|-|-|-|\n",
        "|2023-12-10|0.1|Abhishek Gagneja|Initial Draft created|\n"
      ]
    },
    {
      "cell_type": "markdown",
      "metadata": {},
      "source": [
        "Copyright © 2023 IBM Corporation. All rights reserved.\n"
      ]
    }
  ],
  "metadata": {
    "kernelspec": {
      "display_name": "Python (Pyodide)",
      "language": "python",
      "name": "python"
    },
    "language_info": {
      "codemirror_mode": {
        "name": "python",
        "version": 3
      },
      "file_extension": ".py",
      "mimetype": "text/x-python",
      "name": "python",
      "nbconvert_exporter": "python",
      "pygments_lexer": "ipython3",
      "version": "3.8"
    }
  },
  "nbformat": 4,
  "nbformat_minor": 4
}
