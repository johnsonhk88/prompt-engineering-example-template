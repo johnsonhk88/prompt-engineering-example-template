{
  "nbformat": 4,
  "nbformat_minor": 0,
  "metadata": {
    "colab": {
      "provenance": []
    },
    "kernelspec": {
      "name": "python3",
      "display_name": "Python 3"
    },
    "language_info": {
      "name": "python"
    }
  },
  "cells": [
    {
      "cell_type": "markdown",
      "source": [
        "# Generative AI with Vertex AI: Build a customer chatbot - Coursera Project\n",
        "<https://www.coursera.org/learn/generative-ai-with-vertex-ai-build-a-customer-chatbot/>\n",
        "\n",
        "## Install library"
      ],
      "metadata": {
        "id": "LH_0iScEFYGr"
      }
    },
    {
      "cell_type": "code",
      "source": [
        "!pip install vertex"
      ],
      "metadata": {
        "colab": {
          "base_uri": "https://localhost:8080/"
        },
        "id": "IZhx0UaNFkvV",
        "outputId": "e5504b63-3de9-469b-9cfc-51f880aac1dc"
      },
      "execution_count": 4,
      "outputs": [
        {
          "output_type": "stream",
          "name": "stdout",
          "text": [
            "Requirement already satisfied: vertex in /usr/local/lib/python3.10/dist-packages (0.3.1)\n",
            "Requirement already satisfied: Twisted>=13.1.0 in /usr/local/lib/python3.10/dist-packages (from vertex) (24.3.0)\n",
            "Requirement already satisfied: pyOpenSSL>=0.13 in /usr/local/lib/python3.10/dist-packages (from vertex) (24.1.0)\n",
            "Requirement already satisfied: cryptography<43,>=41.0.5 in /usr/local/lib/python3.10/dist-packages (from pyOpenSSL>=0.13->vertex) (42.0.5)\n",
            "Requirement already satisfied: attrs>=21.3.0 in /usr/local/lib/python3.10/dist-packages (from Twisted>=13.1.0->vertex) (23.2.0)\n",
            "Requirement already satisfied: automat>=0.8.0 in /usr/local/lib/python3.10/dist-packages (from Twisted>=13.1.0->vertex) (22.10.0)\n",
            "Requirement already satisfied: constantly>=15.1 in /usr/local/lib/python3.10/dist-packages (from Twisted>=13.1.0->vertex) (23.10.4)\n",
            "Requirement already satisfied: hyperlink>=17.1.1 in /usr/local/lib/python3.10/dist-packages (from Twisted>=13.1.0->vertex) (21.0.0)\n",
            "Requirement already satisfied: incremental>=22.10.0 in /usr/local/lib/python3.10/dist-packages (from Twisted>=13.1.0->vertex) (22.10.0)\n",
            "Requirement already satisfied: typing-extensions>=4.2.0 in /usr/local/lib/python3.10/dist-packages (from Twisted>=13.1.0->vertex) (4.11.0)\n",
            "Requirement already satisfied: zope-interface>=5 in /usr/local/lib/python3.10/dist-packages (from Twisted>=13.1.0->vertex) (6.3)\n",
            "Requirement already satisfied: six in /usr/local/lib/python3.10/dist-packages (from automat>=0.8.0->Twisted>=13.1.0->vertex) (1.16.0)\n",
            "Requirement already satisfied: cffi>=1.12 in /usr/local/lib/python3.10/dist-packages (from cryptography<43,>=41.0.5->pyOpenSSL>=0.13->vertex) (1.16.0)\n",
            "Requirement already satisfied: idna>=2.5 in /usr/local/lib/python3.10/dist-packages (from hyperlink>=17.1.1->Twisted>=13.1.0->vertex) (3.7)\n",
            "Requirement already satisfied: setuptools in /usr/local/lib/python3.10/dist-packages (from zope-interface>=5->Twisted>=13.1.0->vertex) (67.7.2)\n",
            "Requirement already satisfied: pycparser in /usr/local/lib/python3.10/dist-packages (from cffi>=1.12->cryptography<43,>=41.0.5->pyOpenSSL>=0.13->vertex) (2.22)\n"
          ]
        }
      ]
    },
    {
      "cell_type": "code",
      "source": [
        "# !pip install  google-cloud-aiplatform  --upgrade\n",
        "!pip install --upgrade google-cloud-aiplatform\n"
      ],
      "metadata": {
        "colab": {
          "base_uri": "https://localhost:8080/"
        },
        "id": "eiPjCxXQPHNw",
        "outputId": "5b37a0dc-3814-47e9-809d-445b72148507"
      },
      "execution_count": 5,
      "outputs": [
        {
          "output_type": "stream",
          "name": "stdout",
          "text": [
            "Requirement already satisfied: google-cloud-aiplatform in /usr/local/lib/python3.10/dist-packages (1.48.0)\n",
            "Requirement already satisfied: google-api-core[grpc]!=2.0.*,!=2.1.*,!=2.2.*,!=2.3.*,!=2.4.*,!=2.5.*,!=2.6.*,!=2.7.*,<3.0.0dev,>=1.34.1 in /usr/local/lib/python3.10/dist-packages (from google-cloud-aiplatform) (2.11.1)\n",
            "Requirement already satisfied: google-auth<3.0.0dev,>=2.14.1 in /usr/local/lib/python3.10/dist-packages (from google-cloud-aiplatform) (2.27.0)\n",
            "Requirement already satisfied: proto-plus<2.0.0dev,>=1.22.0 in /usr/local/lib/python3.10/dist-packages (from google-cloud-aiplatform) (1.23.0)\n",
            "Requirement already satisfied: protobuf!=3.20.0,!=3.20.1,!=4.21.0,!=4.21.1,!=4.21.2,!=4.21.3,!=4.21.4,!=4.21.5,<5.0.0dev,>=3.19.5 in /usr/local/lib/python3.10/dist-packages (from google-cloud-aiplatform) (3.20.3)\n",
            "Requirement already satisfied: packaging>=14.3 in /usr/local/lib/python3.10/dist-packages (from google-cloud-aiplatform) (24.0)\n",
            "Requirement already satisfied: google-cloud-storage<3.0.0dev,>=1.32.0 in /usr/local/lib/python3.10/dist-packages (from google-cloud-aiplatform) (2.8.0)\n",
            "Requirement already satisfied: google-cloud-bigquery!=3.20.0,<4.0.0dev,>=1.15.0 in /usr/local/lib/python3.10/dist-packages (from google-cloud-aiplatform) (3.12.0)\n",
            "Requirement already satisfied: google-cloud-resource-manager<3.0.0dev,>=1.3.3 in /usr/local/lib/python3.10/dist-packages (from google-cloud-aiplatform) (1.12.3)\n",
            "Requirement already satisfied: shapely<3.0.0dev in /usr/local/lib/python3.10/dist-packages (from google-cloud-aiplatform) (2.0.4)\n",
            "Requirement already satisfied: pydantic<3 in /usr/local/lib/python3.10/dist-packages (from google-cloud-aiplatform) (2.7.0)\n",
            "Requirement already satisfied: docstring-parser<1 in /usr/local/lib/python3.10/dist-packages (from google-cloud-aiplatform) (0.16)\n",
            "Requirement already satisfied: googleapis-common-protos<2.0.dev0,>=1.56.2 in /usr/local/lib/python3.10/dist-packages (from google-api-core[grpc]!=2.0.*,!=2.1.*,!=2.2.*,!=2.3.*,!=2.4.*,!=2.5.*,!=2.6.*,!=2.7.*,<3.0.0dev,>=1.34.1->google-cloud-aiplatform) (1.63.0)\n",
            "Requirement already satisfied: requests<3.0.0.dev0,>=2.18.0 in /usr/local/lib/python3.10/dist-packages (from google-api-core[grpc]!=2.0.*,!=2.1.*,!=2.2.*,!=2.3.*,!=2.4.*,!=2.5.*,!=2.6.*,!=2.7.*,<3.0.0dev,>=1.34.1->google-cloud-aiplatform) (2.31.0)\n",
            "Requirement already satisfied: grpcio<2.0dev,>=1.33.2 in /usr/local/lib/python3.10/dist-packages (from google-api-core[grpc]!=2.0.*,!=2.1.*,!=2.2.*,!=2.3.*,!=2.4.*,!=2.5.*,!=2.6.*,!=2.7.*,<3.0.0dev,>=1.34.1->google-cloud-aiplatform) (1.62.2)\n",
            "Requirement already satisfied: grpcio-status<2.0.dev0,>=1.33.2 in /usr/local/lib/python3.10/dist-packages (from google-api-core[grpc]!=2.0.*,!=2.1.*,!=2.2.*,!=2.3.*,!=2.4.*,!=2.5.*,!=2.6.*,!=2.7.*,<3.0.0dev,>=1.34.1->google-cloud-aiplatform) (1.48.2)\n",
            "Requirement already satisfied: cachetools<6.0,>=2.0.0 in /usr/local/lib/python3.10/dist-packages (from google-auth<3.0.0dev,>=2.14.1->google-cloud-aiplatform) (5.3.3)\n",
            "Requirement already satisfied: pyasn1-modules>=0.2.1 in /usr/local/lib/python3.10/dist-packages (from google-auth<3.0.0dev,>=2.14.1->google-cloud-aiplatform) (0.4.0)\n",
            "Requirement already satisfied: rsa<5,>=3.1.4 in /usr/local/lib/python3.10/dist-packages (from google-auth<3.0.0dev,>=2.14.1->google-cloud-aiplatform) (4.9)\n",
            "Requirement already satisfied: google-cloud-core<3.0.0dev,>=1.6.0 in /usr/local/lib/python3.10/dist-packages (from google-cloud-bigquery!=3.20.0,<4.0.0dev,>=1.15.0->google-cloud-aiplatform) (2.3.3)\n",
            "Requirement already satisfied: google-resumable-media<3.0dev,>=0.6.0 in /usr/local/lib/python3.10/dist-packages (from google-cloud-bigquery!=3.20.0,<4.0.0dev,>=1.15.0->google-cloud-aiplatform) (2.7.0)\n",
            "Requirement already satisfied: python-dateutil<3.0dev,>=2.7.2 in /usr/local/lib/python3.10/dist-packages (from google-cloud-bigquery!=3.20.0,<4.0.0dev,>=1.15.0->google-cloud-aiplatform) (2.8.2)\n",
            "Requirement already satisfied: grpc-google-iam-v1<1.0.0dev,>=0.12.4 in /usr/local/lib/python3.10/dist-packages (from google-cloud-resource-manager<3.0.0dev,>=1.3.3->google-cloud-aiplatform) (0.13.0)\n",
            "Requirement already satisfied: annotated-types>=0.4.0 in /usr/local/lib/python3.10/dist-packages (from pydantic<3->google-cloud-aiplatform) (0.6.0)\n",
            "Requirement already satisfied: pydantic-core==2.18.1 in /usr/local/lib/python3.10/dist-packages (from pydantic<3->google-cloud-aiplatform) (2.18.1)\n",
            "Requirement already satisfied: typing-extensions>=4.6.1 in /usr/local/lib/python3.10/dist-packages (from pydantic<3->google-cloud-aiplatform) (4.11.0)\n",
            "Requirement already satisfied: numpy<3,>=1.14 in /usr/local/lib/python3.10/dist-packages (from shapely<3.0.0dev->google-cloud-aiplatform) (1.25.2)\n",
            "Requirement already satisfied: google-crc32c<2.0dev,>=1.0 in /usr/local/lib/python3.10/dist-packages (from google-resumable-media<3.0dev,>=0.6.0->google-cloud-bigquery!=3.20.0,<4.0.0dev,>=1.15.0->google-cloud-aiplatform) (1.5.0)\n",
            "Requirement already satisfied: pyasn1<0.7.0,>=0.4.6 in /usr/local/lib/python3.10/dist-packages (from pyasn1-modules>=0.2.1->google-auth<3.0.0dev,>=2.14.1->google-cloud-aiplatform) (0.6.0)\n",
            "Requirement already satisfied: six>=1.5 in /usr/local/lib/python3.10/dist-packages (from python-dateutil<3.0dev,>=2.7.2->google-cloud-bigquery!=3.20.0,<4.0.0dev,>=1.15.0->google-cloud-aiplatform) (1.16.0)\n",
            "Requirement already satisfied: charset-normalizer<4,>=2 in /usr/local/lib/python3.10/dist-packages (from requests<3.0.0.dev0,>=2.18.0->google-api-core[grpc]!=2.0.*,!=2.1.*,!=2.2.*,!=2.3.*,!=2.4.*,!=2.5.*,!=2.6.*,!=2.7.*,<3.0.0dev,>=1.34.1->google-cloud-aiplatform) (3.3.2)\n",
            "Requirement already satisfied: idna<4,>=2.5 in /usr/local/lib/python3.10/dist-packages (from requests<3.0.0.dev0,>=2.18.0->google-api-core[grpc]!=2.0.*,!=2.1.*,!=2.2.*,!=2.3.*,!=2.4.*,!=2.5.*,!=2.6.*,!=2.7.*,<3.0.0dev,>=1.34.1->google-cloud-aiplatform) (3.7)\n",
            "Requirement already satisfied: urllib3<3,>=1.21.1 in /usr/local/lib/python3.10/dist-packages (from requests<3.0.0.dev0,>=2.18.0->google-api-core[grpc]!=2.0.*,!=2.1.*,!=2.2.*,!=2.3.*,!=2.4.*,!=2.5.*,!=2.6.*,!=2.7.*,<3.0.0dev,>=1.34.1->google-cloud-aiplatform) (2.0.7)\n",
            "Requirement already satisfied: certifi>=2017.4.17 in /usr/local/lib/python3.10/dist-packages (from requests<3.0.0.dev0,>=2.18.0->google-api-core[grpc]!=2.0.*,!=2.1.*,!=2.2.*,!=2.3.*,!=2.4.*,!=2.5.*,!=2.6.*,!=2.7.*,<3.0.0dev,>=1.34.1->google-cloud-aiplatform) (2024.2.2)\n"
          ]
        }
      ]
    },
    {
      "cell_type": "markdown",
      "source": [
        "## Colab author by Vertex"
      ],
      "metadata": {
        "id": "QSUvkd_j6zxw"
      }
    },
    {
      "cell_type": "code",
      "source": [
        "from google.colab import auth\n",
        "auth.authenticate_user()\n",
        "# !gcloud auth application-default login # for lobel pc use"
      ],
      "metadata": {
        "id": "N7_Z8K_u6zDZ"
      },
      "execution_count": 6,
      "outputs": []
    },
    {
      "cell_type": "code",
      "source": [
        "import base64\n",
        "import vertexai\n",
        "from vertexai.generative_models import GenerativeModel, Part, FinishReason\n",
        "import vertexai.preview.generative_models as generative_models\n",
        "\n",
        "def generate():\n",
        "  vertexai.init(project=\"gen-lang-client-0847677637\", location=\"us-central1\")\n",
        "  model = GenerativeModel(\"gemini-1.0-pro-002\")\n",
        "  responses = model.generate_content(\n",
        "      [text1],\n",
        "      generation_config=generation_config,\n",
        "      safety_settings=safety_settings,\n",
        "      stream=True,\n",
        "  )\n",
        "\n",
        "  for response in responses:\n",
        "    print(response.text, end=\"\")\n",
        "\n",
        "text1 = \"\"\"Summarize the following conversation between a service rep and a customer in a few sentences. Use only the information from the conversation.\n",
        "\n",
        "Hi, you’ve called Swish Bank, how may I help you?\n",
        "I’m a customer of your bank and I have some errors on my account details.\n",
        "What type of errors?\n",
        "Well my name is spelt incorrectly for a start, it’s spelt c-l-a-r-k-e-s-o-n, it shouldn’t have an e. Also my address is wrong, it shows my old address and only reached me because of a redirect.\n",
        "I can fix that for you, could I have your customer identification number.\n",
        "32948322\n",
        "Your customer pin number…\n",
        "Um, don’t remember, I hardly ever use it.\n",
        "That’s fine, I am just going to have ask some security questions to verify you are the account holder. Date of birth?\n",
        "1/1/1975\n",
        "Favourite chess opening…\n",
        "Sicilian\n",
        "Most disturbing childhood memory…\n",
        "Almost drowning in a pond after going in to fetch a ball after Billy called me a chicken because I wouldn’t go in because I couldn’t swim.\n",
        "That’s not showing up on my system…\n",
        "Spending a weekend at Neverland Ranch.\n",
        "Okay, now let’s go ahead and fix your details. Would you like to change the most disturbing childhood memory on our records?\n",
        "No, come to think of it the duck pond was a walk in the park after Neverland.\n",
        "What is your new address?\n",
        "12 SeaWhack Ave Crichfield\n",
        "I’m sorry sir, that’s not coming up as a valid address.\n",
        "It’s a new residential area…\n",
        "I’m sorry sir, it’s not validating.\n",
        "We only finished building about…\n",
        "It’s bank policy not to accept fictitious addresses. I am instructed by bank security policy to ask the following questions, are you a terrorist, sex offender, money launderer or professional athlete?\n",
        "No…\n",
        "The only option I have is to change your address status to homeless, I must warn you that it may impact your credit rating in a negative way. I suggest you move to a real address as quickly as possible.\n",
        "No … I’m not homeless, could you just leave it at the old address…\n",
        "I cannot undo an update sir. Once you are living at a valid address you can call back. Would you like to fix your other record problems now sir?\n",
        "My surname, it doesn’t have an E.\n",
        "That has been corrected sir. I have replaced your surname.\n",
        "And I would like to merge my wife’s account with mine.\n",
        "Your wife’s account ID.\n",
        "94839382\n",
        "Your wife’s security pin id.\n",
        "I don’t know… Look why don’t I just put her on.\n",
        "Hi, it’s Maureen here, I would like to merge my account with my husbands but I don’t know my pin.\n",
        "Date of birth?\n",
        "10/9/1975\n",
        "I’m sorry that’s not right.\n",
        "Yes it is.\n",
        "No it’s not.\n",
        "Try 9/10/1975.\n",
        "Correct. Favourite province of China.\n",
        "I’ve never been to China.\n",
        "Correct. Most embarrassing teenage experience?\n",
        "Losing my swimming top in the pool during the school swim meet.\n",
        "Right, what can I do for you today?\n",
        "I would like to merge my account with my husband.\n",
        "My records are showing that you have a different surname…\n",
        "I didn’t change my name when we got married.\n",
        "And you are living at a different address? He is showing up as homeless. The bank will need some evidence that you are married.\n",
        "Look, this is ridiculous, you have my security identification and his, it’s not up to you to decide whether or not we are married.\n",
        "Normally we allow account merges but in this case the target account is flagged as a potential terrorist, sex offender, money launderer or professional athlete due to irregularities in address change requests showing up in his history.\n",
        "We have only move house once…\n",
        "So you are not at your stated address?\n",
        "Well no, I’m at 12 SeaWhack Ave Crichfield\n",
        "I am instructed by bank security policy to ask the following questions, are you a terrorist, sex offender, money launderer or professional athlete?\n",
        "Well actually two of the four but I don’t see how that’s any of your business…\n",
        "I cannot merge your accounts due to your homeless status and declining credit status, not only doesn’t your “husband” have a residential address but he keeps changing his surname…\n",
        "Look, my husband wants to talk to you again!\n",
        "I have just received a text message telling me that my visa card has been suspended?\n",
        "Customer identification number?\n",
        "You just spoke to me!\n",
        "I have just been speaking to a Maureen O’Sullivan. Unless you are Maureen I will require your Customer identification number?\n",
        "Look, this has been one long mistake, how about we just pretend I didn’t call today and that I didn’t find any mistakes on my record and you can just go back to the old record…\n",
        "I’m sorry sir, this conversation has been recorded for training purposes and may even be forwarded around the office for a laugh. I cannot remove this call from our records.\n",
        "Could we just go back to our old record? Please?\n",
        "I cannot go back to an unclean record. You flagged that record as incorrect on a previous call. Will that be all for today?\n",
        "Can I speak to a supervisor…\n",
        "I am the supervisor, they made us all supervisors, it streamlined the complaints process. Anything else for today? Would you like to speak to my line manager?\n",
        "Yes! Please!\n",
        "That’s me as well! How can I help you? I’m also my performance manager and my career guidance councilor.\n",
        "No … I think you’ve done enough. I need to get to a bank to try and get some cash…\n",
        "Just a moment sir, yes my branch finder shows your fictitious address is right around the corner from our Chrichfield branch…\n",
        "Yes! What street…\n",
        "And it wont open for another six months with that being a new area and all. Can I help you with anything else?\n",
        "No, please, nothing else.\n",
        "Thank you for your business. Goodbye Mr Cockson.\n",
        "Clarkson … that’s Clarkson … hello? Hello?\"\"\"\n",
        "\n",
        "generation_config = {\n",
        "    \"max_output_tokens\": 256,\n",
        "    \"temperature\": 0.2,\n",
        "    \"top_p\": 0.8,\n",
        "}\n",
        "\n",
        "safety_settings = {\n",
        "    generative_models.HarmCategory.HARM_CATEGORY_HATE_SPEECH: generative_models.HarmBlockThreshold.BLOCK_MEDIUM_AND_ABOVE,\n",
        "    generative_models.HarmCategory.HARM_CATEGORY_DANGEROUS_CONTENT: generative_models.HarmBlockThreshold.BLOCK_MEDIUM_AND_ABOVE,\n",
        "    generative_models.HarmCategory.HARM_CATEGORY_SEXUALLY_EXPLICIT: generative_models.HarmBlockThreshold.BLOCK_MEDIUM_AND_ABOVE,\n",
        "    generative_models.HarmCategory.HARM_CATEGORY_HARASSMENT: generative_models.HarmBlockThreshold.BLOCK_MEDIUM_AND_ABOVE,\n",
        "}\n",
        "\n",
        "generate()\n",
        "\n"
      ],
      "metadata": {
        "colab": {
          "base_uri": "https://localhost:8080/"
        },
        "id": "oKp4DzpwFuZv",
        "outputId": "a3a317c8-4e9f-48d5-eae8-0f168bc929c9"
      },
      "execution_count": 7,
      "outputs": [
        {
          "output_type": "stream",
          "name": "stdout",
          "text": [
            "Mr. Clarkson called Swish Bank to report errors on his account details. He wanted to correct his name spelling, update his address, and merge his account with his wife's. However, the bank flagged his account as suspicious due to inconsistencies in his address change requests and his wife's account information. The bank representative was unable to help him and suggested he visit a branch when it opens in six months. \n"
          ]
        }
      ]
    },
    {
      "cell_type": "code",
      "source": [],
      "metadata": {
        "id": "wAYVH32B8TkQ"
      },
      "execution_count": null,
      "outputs": []
    },
    {
      "cell_type": "code",
      "source": [],
      "metadata": {
        "id": "eq77VQD05exJ"
      },
      "execution_count": null,
      "outputs": []
    }
  ]
}